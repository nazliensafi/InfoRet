{
 "cells": [
  {
   "cell_type": "markdown",
   "id": "257d9242",
   "metadata": {},
   "source": [
    "1. Download the Reuters collection Reuters-21578 (http://www.daviddlewis.com/resources/\n",
    "testcollections/reuters21578/). How many documents does reut2-020.sgm contain?\n",
    "How many does reut2-021.sgm contain? How can you  nd this information?"
   ]
  },
  {
   "cell_type": "code",
   "execution_count": 2,
   "id": "cf5423ff",
   "metadata": {},
   "outputs": [
    {
     "name": "stderr",
     "output_type": "stream",
     "text": [
      "[nltk_data] Error loading reuters-21578: Package 'reuters-21578' not\n",
      "[nltk_data]     found in index\n"
     ]
    },
    {
     "data": {
      "text/plain": [
       "False"
      ]
     },
     "execution_count": 2,
     "metadata": {},
     "output_type": "execute_result"
    }
   ],
   "source": [
    "import nltk\n",
    "from nltk.corpus import reuters\n",
    "nltk.download('reuters-21578')"
   ]
  },
  {
   "cell_type": "code",
   "execution_count": 7,
   "id": "c6dbcb06",
   "metadata": {},
   "outputs": [
    {
     "name": "stdout",
     "output_type": "stream",
     "text": [
      "Dataset downloaded to /Users/nazliensafi/Desktop/comp479/reuters21578\n"
     ]
    }
   ],
   "source": [
    "import requests\n",
    "\n",
    "# Define the URL of the Reuters-21578 dataset\n",
    "dataset_url = \"http://www.daviddlewis.com/resources/testcollections/reuters21578/reuters21578.tar.gz\"\n",
    "\n",
    "# Define the local path where you want to save the downloaded dataset\n",
    "local_path = \"/Users/nazliensafi/Desktop/comp479/reuters21578\"\n",
    "\n",
    "# Send an HTTP GET request to download the dataset\n",
    "response = requests.get(dataset_url)\n",
    "\n",
    "# Check if the request was successful (HTTP status code 200)\n",
    "if response.status_code == 200:\n",
    "    # Save the downloaded dataset to the local path\n",
    "    with open(local_path, \"wb\") as file:\n",
    "        file.write(response.content)\n",
    "    print(f\"Dataset downloaded to {local_path}\")\n",
    "else:\n",
    "    print(f\"Failed to download dataset. HTTP status code: {response.status_code}\")\n"
   ]
  },
  {
   "cell_type": "code",
   "execution_count": 8,
   "id": "123cc0b2",
   "metadata": {},
   "outputs": [
    {
     "ename": "NotADirectoryError",
     "evalue": "[Errno 20] Not a directory: '/Users/nazliensafi/Desktop/comp479/reuters21578'",
     "output_type": "error",
     "traceback": [
      "\u001b[0;31m---------------------------------------------------------------------------\u001b[0m",
      "\u001b[0;31mNotADirectoryError\u001b[0m                        Traceback (most recent call last)",
      "\u001b[0;32m/var/folders/kr/xvpfh3v10ys92h53pc23l7j40000gn/T/ipykernel_28949/3647608481.py\u001b[0m in \u001b[0;36m<module>\u001b[0;34m\u001b[0m\n\u001b[1;32m      1\u001b[0m \u001b[0;32mimport\u001b[0m \u001b[0mos\u001b[0m\u001b[0;34m\u001b[0m\u001b[0;34m\u001b[0m\u001b[0m\n\u001b[1;32m      2\u001b[0m \u001b[0;31m# List all files in the dataset folder\u001b[0m\u001b[0;34m\u001b[0m\u001b[0;34m\u001b[0m\u001b[0;34m\u001b[0m\u001b[0m\n\u001b[0;32m----> 3\u001b[0;31m \u001b[0mfiles_in_dataset\u001b[0m \u001b[0;34m=\u001b[0m \u001b[0mos\u001b[0m\u001b[0;34m.\u001b[0m\u001b[0mlistdir\u001b[0m\u001b[0;34m(\u001b[0m\u001b[0mlocal_path\u001b[0m\u001b[0;34m)\u001b[0m\u001b[0;34m\u001b[0m\u001b[0;34m\u001b[0m\u001b[0m\n\u001b[0m\u001b[1;32m      4\u001b[0m \u001b[0;34m\u001b[0m\u001b[0m\n\u001b[1;32m      5\u001b[0m \u001b[0;31m# Check if \"reut2-020.sgm\" is in the list of files\u001b[0m\u001b[0;34m\u001b[0m\u001b[0;34m\u001b[0m\u001b[0;34m\u001b[0m\u001b[0m\n",
      "\u001b[0;31mNotADirectoryError\u001b[0m: [Errno 20] Not a directory: '/Users/nazliensafi/Desktop/comp479/reuters21578'"
     ]
    }
   ],
   "source": [
    "import os\n",
    "# List all files in the dataset folder\n",
    "files_in_dataset = os.listdir(local_path)\n",
    "\n",
    "# Check if \"reut2-020.sgm\" is in the list of files\n",
    "if \"reut2-020.sgm\" in files_in_dataset:\n",
    "    print(\"Yes, 'reut2-020.sgm' is part of the Reuters-21578 dataset.\")\n",
    "else:\n",
    "    print(\"No, 'reut2-020.sgm' is not part of the Reuters-21578 dataset.\")"
   ]
  },
  {
   "cell_type": "code",
   "execution_count": null,
   "id": "e8694f9f",
   "metadata": {},
   "outputs": [],
   "source": [
    "from bs4 import BeautifulSoup\n",
    "\n",
    "# Define the path to the \"reut2-020.sgm\" file\n",
    "sgm_file_path = \"/path/to/your/local/folder/reut2-020.sgm\"\n",
    "\n",
    "# Read the contents of the SGML file\n",
    "with open(sgm_file_path, \"r\", encoding=\"latin-1\") as file:\n",
    "    sgm_content = file.read()\n",
    "\n",
    "# Parse the SGML content using BeautifulSoup\n",
    "soup = BeautifulSoup(sgm_content, \"html.parser\")\n",
    "\n",
    "# Find all document elements within the SGML file\n",
    "document_elements = soup.find_all(\"reuters\")\n",
    "\n",
    "# Count the number of documents\n",
    "num_documents = len(document_elements)\n",
    "\n",
    "print(f\"The 'reut2-020.sgm' file contains {num_documents} documents.\")\n"
   ]
  }
 ],
 "metadata": {
  "kernelspec": {
   "display_name": "Python 3 (ipykernel)",
   "language": "python",
   "name": "python3"
  },
  "language_info": {
   "codemirror_mode": {
    "name": "ipython",
    "version": 3
   },
   "file_extension": ".py",
   "mimetype": "text/x-python",
   "name": "python",
   "nbconvert_exporter": "python",
   "pygments_lexer": "ipython3",
   "version": "3.9.5"
  }
 },
 "nbformat": 4,
 "nbformat_minor": 5
}
