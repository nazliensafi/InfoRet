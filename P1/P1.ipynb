{
 "cells": [
  {
   "cell_type": "markdown",
   "id": "50d54aa6",
   "metadata": {},
   "source": [
    "### Comp 479, Fall 2023, Project 1"
   ]
  },
  {
   "cell_type": "markdown",
   "id": "8cf305e5",
   "metadata": {},
   "source": [
    "#### Goal: text preprocessing with NLTK, proofreading results\n",
    "#### Data: Reuter's Corpus Reuters-21578\n",
    "#### http://www.daviddlewis.com/resources/testcollections/reuters21578/"
   ]
  },
  {
   "cell_type": "markdown",
   "id": "7b72cbbe",
   "metadata": {},
   "source": [
    "#### 1. read the Reuter's collection and extract the raw text of each Reuter's news item (these are your documents) from the corpus\n",
    "#### 2. tokenize\n",
    "#### 3. make all text lowercase\n",
    "#### 4. apply Porter stemmer\n",
    "#### 5. given a list of stop words, remove those stop words from text. Note that your code has to accept the stop word list as a parameter, do not hardcode a particular list"
   ]
  },
  {
   "cell_type": "code",
   "execution_count": 36,
   "id": "4c1516cd",
   "metadata": {},
   "outputs": [
    {
     "name": "stderr",
     "output_type": "stream",
     "text": [
      "[nltk_data] Downloading package punkt to\n",
      "[nltk_data]     /Users/nazliensafi/nltk_data...\n",
      "[nltk_data]   Package punkt is already up-to-date!\n",
      "[nltk_data] Downloading package stopwords to\n",
      "[nltk_data]     /Users/nazliensafi/nltk_data...\n",
      "[nltk_data]   Package stopwords is already up-to-date!\n"
     ]
    }
   ],
   "source": [
    "import os\n",
    "import nltk\n",
    "from bs4 import BeautifulSoup\n",
    "from nltk.stem import PorterStemmer\n",
    "\n",
    "# Initialize NLTK\n",
    "nltk.download('punkt')\n",
    "\n",
    "# Function to read Reuters collection and extract raw text\n",
    "def extract_raw_text_from_reuters(folder_path, num_documents):\n",
    "    raw_text_collection = []\n",
    "\n",
    "    for filename in os.listdir(folder_path):\n",
    "        if filename.endswith('.sgm') and len(raw_text_collection) < num_documents:\n",
    "            sgml_file = os.path.join(folder_path, filename)\n",
    "\n",
    "            with open(sgml_file, 'r', encoding='latin-1') as file:\n",
    "                content = file.read()\n",
    "\n",
    "            soup = BeautifulSoup(content, 'html.parser')\n",
    "            body_elements = soup.find_all('body')\n",
    "\n",
    "            for body_element in body_elements:\n",
    "                raw_text = body_element.get_text()\n",
    "                raw_text_collection.append(raw_text)\n",
    "\n",
    "    return raw_text_collection\n",
    "\n",
    "# Function to tokenize the text\n",
    "def tokenize_text(text):\n",
    "    return nltk.word_tokenize(text)\n",
    "\n",
    "# Function to make text lowercase\n",
    "def make_lowercase(text):\n",
    "    return text.lower()\n",
    "\n",
    "# Function to apply Porter stemmer\n",
    "def apply_porter_stemmer(tokens):\n",
    "    stemmer = PorterStemmer()\n",
    "    return [stemmer.stem(word) for word in tokens]\n",
    "\n",
    "# Function to remove stop words\n",
    "def remove_stop_words(tokens, stop_words):\n",
    "    return [word for word in tokens if word.lower() not in stop_words]\n",
    "\n",
    "# Main pipeline function\n",
    "def text_processing_pipeline(folder_path, stop_words, num_documents):\n",
    "    # Step 1: Extract raw text from Reuters collection\n",
    "    raw_text_collection = extract_raw_text_from_reuters(folder_path, num_documents)\n",
    "\n",
    "    # Initialize output files\n",
    "    tokenizer_output = open('Tokenizer-output.txt', 'w')\n",
    "    lowercased_output = open('Lowercased-output.txt', 'w')\n",
    "    stemmed_output = open('Stemmed-output.txt', 'w')\n",
    "    no_stopword_output = open('No-stopword-output.txt', 'w')\n",
    "\n",
    "    stopwords_used_output = open('Stopwords-used-for-output.txt', 'w')\n",
    "    stopwords_used_output.write('\\n'.join(stop_words))\n",
    "\n",
    "    for i, raw_text in enumerate(raw_text_collection):\n",
    "        # Step 2: Tokenize the raw text\n",
    "        tokens = tokenize_text(raw_text)\n",
    "        tokenizer_output.write(f\"Document {i + 1}:\\n{' '.join(tokens)}\\n\\n\")\n",
    "\n",
    "        # Step 3: Make text lowercase\n",
    "        lowercase_text = make_lowercase(raw_text)\n",
    "        lowercased_output.write(f\"Document {i + 1}:\\n{lowercase_text}\\n\\n\")\n",
    "\n",
    "        # Step 4: Apply Porter stemmer\n",
    "        stemmed_tokens = apply_porter_stemmer(tokens)\n",
    "        stemmed_output.write(f\"Document {i + 1}:\\n{' '.join(stemmed_tokens)}\\n\\n\")\n",
    "\n",
    "        # Step 5: Remove stop words\n",
    "        no_stopwords_tokens = remove_stop_words(tokens, stop_words)\n",
    "        no_stopword_output.write(f\"Document {i + 1}:\\n{' '.join(no_stopwords_tokens)}\\n\\n\")\n",
    "\n",
    "    # Close output files\n",
    "    tokenizer_output.close()\n",
    "    lowercased_output.close()\n",
    "    stemmed_output.close()\n",
    "    no_stopword_output.close()\n",
    "    stopwords_used_output.close()\n",
    "\n",
    "# Path to the reuters21578/ folder in the current repository\n",
    "folder_path = 'reuters21578/'\n",
    "\n",
    "# Example: Get a list of NLTK English stopwords\n",
    "nltk.download('stopwords')\n",
    "stop_words = set(nltk.corpus.stopwords.words('english'))\n",
    "\n",
    "# Number of documents to process\n",
    "num_documents = 5\n",
    "\n",
    "# Run the pipeline\n",
    "text_processing_pipeline(folder_path, stop_words, num_documents)\n"
   ]
  },
  {
   "cell_type": "code",
   "execution_count": null,
   "id": "029721ce",
   "metadata": {},
   "outputs": [],
   "source": []
  }
 ],
 "metadata": {
  "kernelspec": {
   "display_name": "Python 3 (ipykernel)",
   "language": "python",
   "name": "python3"
  },
  "language_info": {
   "codemirror_mode": {
    "name": "ipython",
    "version": 3
   },
   "file_extension": ".py",
   "mimetype": "text/x-python",
   "name": "python",
   "nbconvert_exporter": "python",
   "pygments_lexer": "ipython3",
   "version": "3.9.5"
  }
 },
 "nbformat": 4,
 "nbformat_minor": 5
}
